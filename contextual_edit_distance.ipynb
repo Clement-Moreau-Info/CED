{
  "nbformat": 4,
  "nbformat_minor": 0,
  "metadata": {
    "colab": {
      "name": "contextual_edit_distance.ipynb",
      "provenance": [],
      "authorship_tag": "ABX9TyMYVzNJ1DfOVEQKYDjmS8wF",
      "include_colab_link": true
    },
    "kernelspec": {
      "name": "python3",
      "display_name": "Python 3"
    },
    "language_info": {
      "name": "python"
    }
  },
  "cells": [
    {
      "cell_type": "markdown",
      "metadata": {
        "id": "view-in-github",
        "colab_type": "text"
      },
      "source": [
        "<a href=\"https://colab.research.google.com/github/Clement-Moreau-Info/CED/blob/main/contextual_edit_distance.ipynb\" target=\"_parent\"><img src=\"https://colab.research.google.com/assets/colab-badge.svg\" alt=\"Open In Colab\"/></a>"
      ]
    },
    {
      "cell_type": "markdown",
      "metadata": {
        "id": "pBQWCHZCxiO9"
      },
      "source": [
        "# Import packages"
      ]
    },
    {
      "cell_type": "code",
      "metadata": {
        "colab": {
          "base_uri": "https://localhost:8080/"
        },
        "id": "6yNDcJ2kw6XA",
        "outputId": "e5075a46-f365-484b-f2da-40c9f74ea64f"
      },
      "source": [
        "!pip install scikit-fuzzy\n",
        "\n",
        "import networkx as nx\n",
        "import pandas as pd\n",
        "import multiprocessing as mp\n",
        "import matplotlib.pyplot as plt\n",
        "from numba import prange\n",
        "from typing import List\n",
        "import skfuzzy as fuzz\n",
        "from scipy import signal\n",
        "import numpy as np\n",
        "from functools import lru_cache\n",
        "from scipy.spatial.distance import squareform\n",
        "from scipy.cluster import hierarchy\n",
        "from scipy.cluster.hierarchy import dendrogram, linkage, fcluster\n",
        "import time"
      ],
      "execution_count": null,
      "outputs": [
        {
          "output_type": "stream",
          "text": [
            "Collecting scikit-fuzzy\n",
            "\u001b[?25l  Downloading https://files.pythonhosted.org/packages/6c/f0/5eb5dbe0fd8dfe7d4651a8f4e591a196623a22b9e5339101e559695b4f6c/scikit-fuzzy-0.4.2.tar.gz (993kB)\n",
            "\r\u001b[K     |▎                               | 10kB 13.7MB/s eta 0:00:01\r\u001b[K     |▋                               | 20kB 13.3MB/s eta 0:00:01\r\u001b[K     |█                               | 30kB 16.9MB/s eta 0:00:01\r\u001b[K     |█▎                              | 40kB 15.7MB/s eta 0:00:01\r\u001b[K     |█▋                              | 51kB 8.2MB/s eta 0:00:01\r\u001b[K     |██                              | 61kB 9.5MB/s eta 0:00:01\r\u001b[K     |██▎                             | 71kB 8.7MB/s eta 0:00:01\r\u001b[K     |██▋                             | 81kB 9.2MB/s eta 0:00:01\r\u001b[K     |███                             | 92kB 9.9MB/s eta 0:00:01\r\u001b[K     |███▎                            | 102kB 8.6MB/s eta 0:00:01\r\u001b[K     |███▋                            | 112kB 8.6MB/s eta 0:00:01\r\u001b[K     |████                            | 122kB 8.6MB/s eta 0:00:01\r\u001b[K     |████▎                           | 133kB 8.6MB/s eta 0:00:01\r\u001b[K     |████▋                           | 143kB 8.6MB/s eta 0:00:01\r\u001b[K     |█████                           | 153kB 8.6MB/s eta 0:00:01\r\u001b[K     |█████▎                          | 163kB 8.6MB/s eta 0:00:01\r\u001b[K     |█████▋                          | 174kB 8.6MB/s eta 0:00:01\r\u001b[K     |██████                          | 184kB 8.6MB/s eta 0:00:01\r\u001b[K     |██████▎                         | 194kB 8.6MB/s eta 0:00:01\r\u001b[K     |██████▋                         | 204kB 8.6MB/s eta 0:00:01\r\u001b[K     |███████                         | 215kB 8.6MB/s eta 0:00:01\r\u001b[K     |███████▎                        | 225kB 8.6MB/s eta 0:00:01\r\u001b[K     |███████▋                        | 235kB 8.6MB/s eta 0:00:01\r\u001b[K     |████████                        | 245kB 8.6MB/s eta 0:00:01\r\u001b[K     |████████▎                       | 256kB 8.6MB/s eta 0:00:01\r\u001b[K     |████████▋                       | 266kB 8.6MB/s eta 0:00:01\r\u001b[K     |█████████                       | 276kB 8.6MB/s eta 0:00:01\r\u001b[K     |█████████▎                      | 286kB 8.6MB/s eta 0:00:01\r\u001b[K     |█████████▋                      | 296kB 8.6MB/s eta 0:00:01\r\u001b[K     |██████████                      | 307kB 8.6MB/s eta 0:00:01\r\u001b[K     |██████████▏                     | 317kB 8.6MB/s eta 0:00:01\r\u001b[K     |██████████▌                     | 327kB 8.6MB/s eta 0:00:01\r\u001b[K     |██████████▉                     | 337kB 8.6MB/s eta 0:00:01\r\u001b[K     |███████████▏                    | 348kB 8.6MB/s eta 0:00:01\r\u001b[K     |███████████▌                    | 358kB 8.6MB/s eta 0:00:01\r\u001b[K     |███████████▉                    | 368kB 8.6MB/s eta 0:00:01\r\u001b[K     |████████████▏                   | 378kB 8.6MB/s eta 0:00:01\r\u001b[K     |████████████▌                   | 389kB 8.6MB/s eta 0:00:01\r\u001b[K     |████████████▉                   | 399kB 8.6MB/s eta 0:00:01\r\u001b[K     |█████████████▏                  | 409kB 8.6MB/s eta 0:00:01\r\u001b[K     |█████████████▌                  | 419kB 8.6MB/s eta 0:00:01\r\u001b[K     |█████████████▉                  | 430kB 8.6MB/s eta 0:00:01\r\u001b[K     |██████████████▏                 | 440kB 8.6MB/s eta 0:00:01\r\u001b[K     |██████████████▌                 | 450kB 8.6MB/s eta 0:00:01\r\u001b[K     |██████████████▉                 | 460kB 8.6MB/s eta 0:00:01\r\u001b[K     |███████████████▏                | 471kB 8.6MB/s eta 0:00:01\r\u001b[K     |███████████████▌                | 481kB 8.6MB/s eta 0:00:01\r\u001b[K     |███████████████▉                | 491kB 8.6MB/s eta 0:00:01\r\u001b[K     |████████████████▏               | 501kB 8.6MB/s eta 0:00:01\r\u001b[K     |████████████████▌               | 512kB 8.6MB/s eta 0:00:01\r\u001b[K     |████████████████▉               | 522kB 8.6MB/s eta 0:00:01\r\u001b[K     |█████████████████▏              | 532kB 8.6MB/s eta 0:00:01\r\u001b[K     |█████████████████▌              | 542kB 8.6MB/s eta 0:00:01\r\u001b[K     |█████████████████▉              | 552kB 8.6MB/s eta 0:00:01\r\u001b[K     |██████████████████▏             | 563kB 8.6MB/s eta 0:00:01\r\u001b[K     |██████████████████▌             | 573kB 8.6MB/s eta 0:00:01\r\u001b[K     |██████████████████▉             | 583kB 8.6MB/s eta 0:00:01\r\u001b[K     |███████████████████▏            | 593kB 8.6MB/s eta 0:00:01\r\u001b[K     |███████████████████▌            | 604kB 8.6MB/s eta 0:00:01\r\u001b[K     |███████████████████▉            | 614kB 8.6MB/s eta 0:00:01\r\u001b[K     |████████████████████            | 624kB 8.6MB/s eta 0:00:01\r\u001b[K     |████████████████████▍           | 634kB 8.6MB/s eta 0:00:01\r\u001b[K     |████████████████████▊           | 645kB 8.6MB/s eta 0:00:01\r\u001b[K     |█████████████████████           | 655kB 8.6MB/s eta 0:00:01\r\u001b[K     |█████████████████████▍          | 665kB 8.6MB/s eta 0:00:01\r\u001b[K     |█████████████████████▊          | 675kB 8.6MB/s eta 0:00:01\r\u001b[K     |██████████████████████          | 686kB 8.6MB/s eta 0:00:01\r\u001b[K     |██████████████████████▍         | 696kB 8.6MB/s eta 0:00:01\r\u001b[K     |██████████████████████▊         | 706kB 8.6MB/s eta 0:00:01\r\u001b[K     |███████████████████████         | 716kB 8.6MB/s eta 0:00:01\r\u001b[K     |███████████████████████▍        | 727kB 8.6MB/s eta 0:00:01\r\u001b[K     |███████████████████████▊        | 737kB 8.6MB/s eta 0:00:01\r\u001b[K     |████████████████████████        | 747kB 8.6MB/s eta 0:00:01\r\u001b[K     |████████████████████████▍       | 757kB 8.6MB/s eta 0:00:01\r\u001b[K     |████████████████████████▊       | 768kB 8.6MB/s eta 0:00:01\r\u001b[K     |█████████████████████████       | 778kB 8.6MB/s eta 0:00:01\r\u001b[K     |█████████████████████████▍      | 788kB 8.6MB/s eta 0:00:01\r\u001b[K     |█████████████████████████▊      | 798kB 8.6MB/s eta 0:00:01\r\u001b[K     |██████████████████████████      | 808kB 8.6MB/s eta 0:00:01\r\u001b[K     |██████████████████████████▍     | 819kB 8.6MB/s eta 0:00:01\r\u001b[K     |██████████████████████████▊     | 829kB 8.6MB/s eta 0:00:01\r\u001b[K     |███████████████████████████     | 839kB 8.6MB/s eta 0:00:01\r\u001b[K     |███████████████████████████▍    | 849kB 8.6MB/s eta 0:00:01\r\u001b[K     |███████████████████████████▊    | 860kB 8.6MB/s eta 0:00:01\r\u001b[K     |████████████████████████████    | 870kB 8.6MB/s eta 0:00:01\r\u001b[K     |████████████████████████████▍   | 880kB 8.6MB/s eta 0:00:01\r\u001b[K     |████████████████████████████▊   | 890kB 8.6MB/s eta 0:00:01\r\u001b[K     |█████████████████████████████   | 901kB 8.6MB/s eta 0:00:01\r\u001b[K     |█████████████████████████████▍  | 911kB 8.6MB/s eta 0:00:01\r\u001b[K     |█████████████████████████████▊  | 921kB 8.6MB/s eta 0:00:01\r\u001b[K     |██████████████████████████████  | 931kB 8.6MB/s eta 0:00:01\r\u001b[K     |██████████████████████████████▎ | 942kB 8.6MB/s eta 0:00:01\r\u001b[K     |██████████████████████████████▋ | 952kB 8.6MB/s eta 0:00:01\r\u001b[K     |███████████████████████████████ | 962kB 8.6MB/s eta 0:00:01\r\u001b[K     |███████████████████████████████▎| 972kB 8.6MB/s eta 0:00:01\r\u001b[K     |███████████████████████████████▋| 983kB 8.6MB/s eta 0:00:01\r\u001b[K     |████████████████████████████████| 993kB 8.6MB/s eta 0:00:01\r\u001b[K     |████████████████████████████████| 1.0MB 8.6MB/s \n",
            "\u001b[?25hRequirement already satisfied: numpy>=1.6.0 in /usr/local/lib/python3.7/dist-packages (from scikit-fuzzy) (1.19.5)\n",
            "Requirement already satisfied: scipy>=0.9.0 in /usr/local/lib/python3.7/dist-packages (from scikit-fuzzy) (1.4.1)\n",
            "Requirement already satisfied: networkx>=1.9.0 in /usr/local/lib/python3.7/dist-packages (from scikit-fuzzy) (2.5.1)\n",
            "Requirement already satisfied: decorator<5,>=4.3 in /usr/local/lib/python3.7/dist-packages (from networkx>=1.9.0->scikit-fuzzy) (4.4.2)\n",
            "Building wheels for collected packages: scikit-fuzzy\n",
            "  Building wheel for scikit-fuzzy (setup.py) ... \u001b[?25l\u001b[?25hdone\n",
            "  Created wheel for scikit-fuzzy: filename=scikit_fuzzy-0.4.2-cp37-none-any.whl size=894088 sha256=61b565abe1379ca3b23f49d3bb06519d45225f6cdadd7acf140ee37b7486ea63\n",
            "  Stored in directory: /root/.cache/pip/wheels/b9/4e/77/da79b16f64ef1738d95486e2731eea09d73e90a72465096600\n",
            "Successfully built scikit-fuzzy\n",
            "Installing collected packages: scikit-fuzzy\n",
            "Successfully installed scikit-fuzzy-0.4.2\n"
          ],
          "name": "stdout"
        }
      ]
    },
    {
      "cell_type": "markdown",
      "metadata": {
        "id": "EoZYZF61xoLS"
      },
      "source": [
        "# Define ontology and similarity"
      ]
    },
    {
      "cell_type": "code",
      "metadata": {
        "colab": {
          "base_uri": "https://localhost:8080/"
        },
        "id": "eKnnwqt7w-mC",
        "outputId": "e017b0a0-2b1e-45a4-994c-d432f6cc33bb"
      },
      "source": [
        "# Import the ontology\n",
        "!wget https://gist.githubusercontent.com/Hector-Plasma/d55b0c617ae8da26dedcf25166aaa35d/raw/68f3eaaf36d6a1725c25dfec5f66da035f990341/ontology_sac.txt -q --show-progress"
      ],
      "execution_count": null,
      "outputs": [
        {
          "output_type": "stream",
          "text": [
            "\rontology_sac.txt      0%[                    ]       0  --.-KB/s               \rontology_sac.txt    100%[===================>]     139  --.-KB/s    in 0s      \n"
          ],
          "name": "stdout"
        }
      ]
    },
    {
      "cell_type": "code",
      "metadata": {
        "id": "gOXUBQyWxA74"
      },
      "source": [
        "# Path to onntology\n",
        "path_onto = \"ontology_sac.txt\"\n",
        "ontology = nx.read_adjlist(path_onto, create_using=nx.DiGraph)\n",
        "\n",
        "@lru_cache(maxsize=100000)\n",
        "def wu_palmer(x: str, y: str, rootnode=\"All\", onto = ontology) -> float:\n",
        "    return (2.0 * nx.shortest_path_length(onto, rootnode, nx.lowest_common_ancestor(onto, x, y))) / (\n",
        "            nx.shortest_path_length(onto, rootnode, x) + nx.shortest_path_length(onto, rootnode, y))\n",
        "\n",
        "\n",
        "# Define the similarity used\n",
        "def sim(x: str, y: str) -> float:\n",
        "    return wu_palmer(x, y)"
      ],
      "execution_count": null,
      "outputs": []
    },
    {
      "cell_type": "markdown",
      "metadata": {
        "id": "_AmqF5F0xv7D"
      },
      "source": [
        "In the defined ontology, the id refer to the following activity symbols: \n",
        "\n",
        "1 => 🚲\n",
        "\n",
        "2 => 🚶‍♂️\n",
        "\n",
        "3 => 🚗\n",
        "\n",
        "4 => 🚃\n",
        "\n",
        "5 => 🥖\n",
        "\n",
        "6 => 🛍\n",
        "\n",
        "7 => 📚\n",
        "\n",
        "8 => 🎬\n",
        "\n",
        "9 => 💃\n",
        "\n",
        "10 => ⚽️\n",
        "\n",
        "11 => 🏊‍♂️\n"
      ]
    },
    {
      "cell_type": "markdown",
      "metadata": {
        "id": "sEz5TVZExyjK"
      },
      "source": [
        "# Contextual Edit Operation"
      ]
    },
    {
      "cell_type": "markdown",
      "metadata": {
        "id": "xFioIhmRx1ln"
      },
      "source": [
        "Suppose we want make the edit operation $op$ with new symbol $\\mathbf{x}$ at index $i_{edit}$ in the sequence $S_i$. \n",
        "\n",
        "Formaly, a contextual edit operation $e$ is a 4-uplet such that:\n",
        "\n",
        "$$e = (op, \\mathbf{x}, i_{edit}, S_i)$$\n",
        "\n",
        "\n",
        "---\n",
        "Here we consider sequence $S_1 = \\langle$ 🚲, 📚, 🚲, 🏊‍♂️, 🚶‍♂️, 🥖 ,🚶‍♂️, 💃 $\\rangle $ and the contextual edit operation $e = (\\mathtt{mod},\\ $🎬, $4, S_1 \\rangle$. "
      ]
    },
    {
      "cell_type": "code",
      "metadata": {
        "id": "Is7oBawUxDyp"
      },
      "source": [
        "from enum import Enum\n",
        "class Edit(Enum):\n",
        "  MOD = 1\n",
        "  ADD = 2\n",
        "  DEL = 3\n",
        "\n",
        "class Cxt_edit:\n",
        "    def __init__(self, op: Edit, x: str, i_edit: int, S_i: List[str]):\n",
        "        self.op = op\n",
        "        self.x = x\n",
        "        self.i_edit = i_edit - 1\n",
        "        self.S_i = S_i\n",
        "\n",
        "S1 = ['1', '7', '1', '11', '2', '5', '2', '9']\n",
        "e = Cxt_edit(Edit.MOD, '8', 4, S1)"
      ],
      "execution_count": null,
      "outputs": []
    },
    {
      "cell_type": "markdown",
      "metadata": {
        "id": "Jco6A36Kx4mR"
      },
      "source": [
        "We define a fuzzy membership function $\\mu$ for the encodinf of the temporal vector $\\nu_e$. "
      ]
    },
    {
      "cell_type": "code",
      "metadata": {
        "colab": {
          "base_uri": "https://localhost:8080/"
        },
        "id": "FZEw1J_lxF3J",
        "outputId": "fd698df9-7118-493c-b837-21ca28997f87"
      },
      "source": [
        "def temporal_vec(e: Cxt_edit, beta : int) -> List[float]:\n",
        "    mu = fuzz.trapmf(np.arange(0, np.sum(len(e.S_i)+1)),\n",
        "                     [e.i_edit - beta, e.i_edit, e.i_edit, e.i_edit + beta])\n",
        "    if e.op == Edit.MOD:\n",
        "        return mu[:-1]\n",
        "    if e.op == Edit.ADD:\n",
        "        return [mu[i] if i < e.i_edit else\n",
        "                (mu[e.i_edit - 1] if i == e.i_edit else mu[i + 1])\n",
        "                for i in range(len(e.S_i))]\n",
        "    else:\n",
        "        return [mu[i] if i != e.i_edit else 0 for i in range(len(e.S_i))]\n",
        "\n",
        "nu = temporal_vec(e, 4)\n",
        "print(nu)\n",
        "#plt.figure(figsize=(10, 8))\n",
        "#plt.plot(np.arange(0, np.sum(len(e.S_i))), mu, 'r')"
      ],
      "execution_count": null,
      "outputs": [
        {
          "output_type": "stream",
          "text": [
            "[0.25 0.5  0.75 1.   0.75 0.5  0.25 0.  ]\n"
          ],
          "name": "stdout"
        }
      ]
    },
    {
      "cell_type": "markdown",
      "metadata": {
        "id": "_QMnbVAvx7Ni"
      },
      "source": [
        "Let compute the cost of the contextual edit operation $e$ such that : \n",
        "\n",
        "$$\\gamma(e) = 1 - \\max_{k \\in [\\![1, n]\\!]}\\{sim(x_k, \\mathbf{x}) \\times \\nu_{e,k}\\}$$"
      ]
    },
    {
      "cell_type": "code",
      "metadata": {
        "colab": {
          "base_uri": "https://localhost:8080/"
        },
        "id": "KhwofXwLxH3K",
        "outputId": "4735e5f5-3a26-47c0-8a16-d83098e864e7"
      },
      "source": [
        "def gamma_cost(e: Cxt_edit) -> float:\n",
        "    nu = temporal_vec(e, 4)\n",
        "    ctx_vector = [sim(e.S_i[k], e.x) * nu[k] for k in range(len(e.S_i))]\n",
        "    return 1 - max(ctx_vector)\n",
        "\n",
        "print(gamma_cost(e))"
      ],
      "execution_count": null,
      "outputs": [
        {
          "output_type": "stream",
          "text": [
            "0.75\n"
          ],
          "name": "stdout"
        }
      ]
    },
    {
      "cell_type": "markdown",
      "metadata": {
        "id": "JyUwVigMx9se"
      },
      "source": [
        "We compute the classical edit distance with the $\\gamma$ cost using the [dynamic programming Wagner & Fisher algorithm](http://citeseerx.ist.psu.edu/viewdoc/download?doi=10.1.1.367.5281&rep=rep1&type=pdf). We obtain the one-sided CED defined such that : \n",
        "\n",
        "$$CED_{S_1 \\rightarrow S_2} = \\min_{(e_1,...,e_N)\\in \\mathscr{P}(S_1,S_2)} \\left\\{\\sum_{i=1}^N\\gamma(e_i)\\right\\}$$"
      ]
    },
    {
      "cell_type": "code",
      "metadata": {
        "id": "sCTNEzEdxKQu"
      },
      "source": [
        "def one_sided_ced(S1: List[str], S2: List[str]) -> float:\n",
        "    dist = np.zeros((len(S1) + 1, len(S2) + 1))\n",
        "    for i in prange(len(S1) + 1):\n",
        "        for j in prange(len(S2) + 1):\n",
        "            if i == 0 or j == 0:\n",
        "                dist[i, j] = j + i\n",
        "            else:\n",
        "                op_mod = Cxt_edit(Edit.MOD, S2[j-1], i-1, S1)\n",
        "                op_del = Cxt_edit(Edit.DEL, S1[i-1], i-1, S1)\n",
        "                op_add = Cxt_edit(Edit.ADD, S2[j-1], i-1, S1)\n",
        "\n",
        "                cost_mod = gamma_cost(op_mod)\n",
        "                cost_del = gamma_cost(op_del)\n",
        "                cost_add = gamma_cost(op_add)\n",
        "\n",
        "                dist[i, j] = round(min(dist[i - 1, j-1] + cost_mod,\n",
        "                                       dist[i - 1, j] + cost_del,\n",
        "                                       dist[i, j - 1] + cost_add), 2)\n",
        "    return dist[len(S1), len(S2)]"
      ],
      "execution_count": null,
      "outputs": []
    },
    {
      "cell_type": "markdown",
      "metadata": {
        "id": "r3iDseKDyAL7"
      },
      "source": [
        "We recover the symettry by applying a $\\top$-norm, for example, the minimum of the two one-sided CED. \n",
        "\n",
        "$$CED(S_1,S_2) = \\max\\{CED_{S_1 \\rightarrow S_2}, CED_{S_2 \\rightarrow S_1}\\}$$"
      ]
    },
    {
      "cell_type": "code",
      "metadata": {
        "id": "K4MkMWHixMQ2"
      },
      "source": [
        "def ced(S1: List[str], S2: List[str]) -> float:\n",
        "    return max(one_sided_ced(S1, S2), one_sided_ced(S2, S1))"
      ],
      "execution_count": null,
      "outputs": []
    },
    {
      "cell_type": "markdown",
      "metadata": {
        "id": "S2jKV1CsyDoq"
      },
      "source": [
        "# Experiments"
      ]
    },
    {
      "cell_type": "markdown",
      "metadata": {
        "id": "q-oKdN5XyFgR"
      },
      "source": [
        "## Edit distance"
      ]
    },
    {
      "cell_type": "code",
      "metadata": {
        "id": "NjfLA7qzxOWz"
      },
      "source": [
        "def edit_dist(seq1, seq2):\n",
        "    n =  len(seq1)\n",
        "    p = len(seq2)\n",
        "    dist = np.zeros((n + 1, p + 1))\n",
        "    for i in range(n + 1):\n",
        "        for j in range(p + 1):\n",
        "            if i == 0 or j == 0:\n",
        "                dist[i, j] = j + i\n",
        "            else:\n",
        "                cost = 1 - sim(seq1[i-1], seq2[j-1])\n",
        "                #cost = 0 if seq1[i-1] == seq2[j-1] else 1\n",
        "                dist[i, j] = round(min(dist[i - 1, j-1] + cost,\n",
        "                                       dist[i - 1, j] + 1,\n",
        "                                       dist[i, j - 1] + 1), 2)\n",
        "    return dist[n, p]"
      ],
      "execution_count": null,
      "outputs": []
    },
    {
      "cell_type": "markdown",
      "metadata": {
        "id": "TDq4L-TgyHih"
      },
      "source": [
        "## Sequences sample"
      ]
    },
    {
      "cell_type": "code",
      "metadata": {
        "id": "jsnIAeH4xQF_"
      },
      "source": [
        "S1 = [\"1\"]\n",
        "\n",
        "S2 = [\"1\", \"5\", \"1\"]\n",
        "\n",
        "S3 = [\"2\", \"6\", \"2\"]\n",
        "\n",
        "S4 = [\"10\", \"2\", \"4\", \"8\"]\n",
        "\n",
        "S5 = [\"4\", \"8\", \"2\", \"10\"]\n",
        "\n",
        "S6 = [\"2\", \"11\", \"4\", \"8\"]\n",
        "\n",
        "S7 = [\"2\", \"7\", \"2\", \"8\"]\n",
        "\n",
        "S8 = [\"2\", \"9\", \"7\"]\n",
        "\n",
        "S9 = [\"2\", \"11\", \"2\", \"7\"]\n",
        "\n",
        "S10 = [\"7\", \"3\", \"4\", \"6\"]\n",
        "\n",
        "seq_example = [S1, S2, S3, S4, S5, S6, S7, S8]\n",
        "nb_sequences = len(seq_example)"
      ],
      "execution_count": null,
      "outputs": []
    },
    {
      "cell_type": "markdown",
      "metadata": {
        "id": "DgdFBYquyMcv"
      },
      "source": [
        "## Edit Distance results"
      ]
    },
    {
      "cell_type": "code",
      "metadata": {
        "id": "nYk-A9K6xR1m"
      },
      "source": [
        "pool = mp.Pool(mp.cpu_count())\n",
        "result_edit = pool.starmap(edit_dist, [(seq_example[i], seq_example[j]) for i in range(nb_sequences) for j in range(i + 1, nb_sequences)])\n",
        "pool.close()"
      ],
      "execution_count": null,
      "outputs": []
    },
    {
      "cell_type": "code",
      "metadata": {
        "colab": {
          "base_uri": "https://localhost:8080/",
          "height": 393
        },
        "id": "Pi1ajbowxULw",
        "outputId": "bec3dd58-464d-4359-b8f3-89faa5e79bb0"
      },
      "source": [
        "fig = plt.figure(figsize=(8,6))\n",
        "ax = plt.title(label = \"Edit\")\n",
        "\n",
        "linkage_matrix = linkage(result_edit , \"ward\")\n",
        "hierarchy.set_link_color_palette(['#000000', '#EE853A', '#6151E6'])\n",
        "dendo = dendrogram(linkage_matrix, labels=range(1, nb_sequences + 1),\n",
        "                   color_threshold=3, above_threshold_color='black')\n",
        "\n",
        "fig.savefig(\"edit_dendo.pdf\")\n",
        "\n",
        "plt.show()\n",
        "\n",
        "#edit_matrix = squareform(np.array(result_edit))\n",
        "#edit_csv = np.savetxt(\"edit_dist.csv\", edit_matrix)"
      ],
      "execution_count": null,
      "outputs": [
        {
          "output_type": "display_data",
          "data": {
            "image/png": "[encoded data removed]",
            "text/plain": [
              "<Figure size 576x432 with 1 Axes>"
            ]
          },
          "metadata": {
            "tags": [],
            "needs_background": "light"
          }
        }
      ]
    },
    {
      "cell_type": "markdown",
      "metadata": {
        "id": "eDwF1rwUzi_S"
      },
      "source": [
        "## CED results"
      ]
    },
    {
      "cell_type": "code",
      "metadata": {
        "id": "66USBUoHyVF0"
      },
      "source": [
        "pool = mp.Pool(mp.cpu_count())\n",
        "result_ced = pool.starmap(ced, [(seq_example[i], seq_example[j]) for i in range(nb_sequences) for j in range(i + 1, nb_sequences)])\n",
        "pool.close()"
      ],
      "execution_count": null,
      "outputs": []
    },
    {
      "cell_type": "code",
      "metadata": {
        "colab": {
          "base_uri": "https://localhost:8080/",
          "height": 393
        },
        "id": "CqIcUegCzpcB",
        "outputId": "628f0d6f-7477-4b08-fab5-063279c95f07"
      },
      "source": [
        "fig = plt.figure(figsize=(8,6))\n",
        "ax = plt.title(label = \"Edit\")\n",
        "\n",
        "linkage_matrix = linkage(result_ced , \"ward\")\n",
        "hierarchy.set_link_color_palette(['#EE853A', '#FF2600', '#6151E6'])\n",
        "dendo = dendrogram(linkage_matrix, labels=range(1, nb_sequences + 1),\n",
        "                   color_threshold=2.3, above_threshold_color='black')\n",
        "\n",
        "fig.savefig(\"ced_dendo.pdf\")\n",
        "\n",
        "plt.show()\n",
        "\n",
        "#edit_matrix = squareform(np.array(result_edit))\n",
        "#edit_csv = np.savetxt(\"edit_dist.csv\", edit_matrix)"
      ],
      "execution_count": null,
      "outputs": [
        {
          "output_type": "display_data",
          "data": {
            "image/png": "[encoded data removed]",
            "text/plain": [
              "<Figure size 576x432 with 1 Axes>"
            ]
          },
          "metadata": {
            "tags": [],
            "needs_background": "light"
          }
        }
      ]
    }
  ]
}